{
 "cells": [
  {
   "cell_type": "markdown",
   "metadata": {},
   "source": [
    "## Probando con R"
   ]
  },
  {
   "cell_type": "markdown",
   "metadata": {},
   "source": [
    "\n",
    "R es un entorno y lenguaje de programación con un enfoque al análisis estadístico. R es diferente a otros lenguajes de programación que por lo general están diseñados para realizar muchas tareas diferentes; esto es porque fue creado con el único propósito de hacer estadística."
   ]
  },
  {
   "cell_type": "markdown",
   "metadata": {},
   "source": [
    "### Instalar librerías"
   ]
  },
  {
   "cell_type": "markdown",
   "metadata": {},
   "source": [
    "Las librerías son una herramienta útil, que permiter aumentar las funcionalidades de R. Para instalar librerías debemos usar el siguiente código:\n",
    "```\n",
    "install.packages(\"ggplot2\")\n",
    "```"
   ]
  },
  {
   "cell_type": "markdown",
   "metadata": {},
   "source": [
    "Utilizamos el paquete ggplot2, un sistema para crear gráficos de forma declarativa, basado en la gramática de los gráficos. Se le proporciona los datos, se le dice cómo asignar las variables a la estética, qué primitivas gráficas utilizar y ggplot2 se encarga de llevarlo a cabo"
   ]
  },
  {
   "cell_type": "markdown",
   "metadata": {},
   "source": [
    "### Importar librerías"
   ]
  },
  {
   "cell_type": "markdown",
   "metadata": {},
   "source": [
    "Una vez que hayas instalado un paquete, hay que cargarlo para poder usas sus funciones o información"
   ]
  },
  {
   "cell_type": "code",
   "execution_count": 9,
   "metadata": {},
   "outputs": [],
   "source": [
    "library(ggplot2)"
   ]
  },
  {
   "cell_type": "markdown",
   "metadata": {},
   "source": [
    "### Crear datos"
   ]
  },
  {
   "cell_type": "markdown",
   "metadata": {},
   "source": [
    "A partir de un código ya creado con anterioridad y aportado por el profesor, hemos introducido unos datos para generar una gráfica a partir de ellos. Son datos relativos al conflicto armado entre Rusia y Ucrania, en concreto al armamento empleado. Por ello, hemos cambiado la nomenclatura y los valores."
   ]
  },
  {
   "cell_type": "code",
   "execution_count": 8,
   "metadata": {},
   "outputs": [
    {
     "data": {
      "image/png": "[encoded data removed]",
      "text/plain": [
       "plot without title"
      ]
     },
     "metadata": {
      "image/png": {
       "height": 420,
       "width": 420
      }
     },
     "output_type": "display_data"
    }
   ],
   "source": [
    " # create a dataset\n",
    "bajas <- c(rep(\"Tanques\" , 2) , rep(\"Artillería\" , 2) , rep(\"Aeronaves\" , 2))\n",
    "paises <- rep(c(\"Rusia\" , \"Ucrania\") , 3)\n",
    "value <- abs(rnorm(12 , 0 , 15))\n",
    "data <- data.frame(bajas,paises,value)\n",
    " \n",
    "# Grouped\n",
    "ggplot(data, aes(fill=paises, y=value, x=bajas)) + \n",
    "    geom_bar(position=\"dodge\", stat=\"identity\")"
   ]
  },
  {
   "cell_type": "markdown",
   "metadata": {},
   "source": [
    "Sin embargo, en clase no pudimos llegar a instalar de manera satisfactoria todo el paquete, de modo que a cada persona le aparecía una gráfica diferente. "
   ]
  },
  {
   "cell_type": "code",
   "execution_count": null,
   "metadata": {},
   "outputs": [],
   "source": []
  }
 ],
 "metadata": {
  "kernelspec": {
   "display_name": "R",
   "language": "R",
   "name": "ir"
  },
  "language_info": {
   "codemirror_mode": "r",
   "file_extension": ".r",
   "mimetype": "text/x-r-source",
   "name": "R",
   "pygments_lexer": "r",
   "version": "4.1.0"
  }
 },
 "nbformat": 4,
 "nbformat_minor": 4
}
